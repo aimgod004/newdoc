{
 "cells": [
  {
   "cell_type": "code",
   "execution_count": 1,
   "id": "013c469c",
   "metadata": {},
   "outputs": [
    {
     "name": "stdout",
     "output_type": "stream",
     "text": [
      "Requirement already satisfied: nltk in c:\\users\\prakash\\appdata\\local\\programs\\python\\python311\\lib\\site-packages (3.8.1)\n",
      "Requirement already satisfied: click in c:\\users\\prakash\\appdata\\local\\programs\\python\\python311\\lib\\site-packages (from nltk) (8.1.3)\n",
      "Requirement already satisfied: joblib in c:\\users\\prakash\\appdata\\local\\programs\\python\\python311\\lib\\site-packages (from nltk) (1.2.0)\n",
      "Requirement already satisfied: regex>=2021.8.3 in c:\\users\\prakash\\appdata\\local\\programs\\python\\python311\\lib\\site-packages (from nltk) (2023.5.5)\n",
      "Requirement already satisfied: tqdm in c:\\users\\prakash\\appdata\\local\\programs\\python\\python311\\lib\\site-packages (from nltk) (4.65.0)\n",
      "Requirement already satisfied: colorama in c:\\users\\prakash\\appdata\\local\\programs\\python\\python311\\lib\\site-packages (from click->nltk) (0.4.6)\n",
      "Requirement already satisfied: bs4 in c:\\users\\prakash\\appdata\\local\\programs\\python\\python311\\lib\\site-packages (0.0.1)\n",
      "Requirement already satisfied: beautifulsoup4 in c:\\users\\prakash\\appdata\\local\\programs\\python\\python311\\lib\\site-packages (from bs4) (4.12.2)\n",
      "Requirement already satisfied: soupsieve>1.2 in c:\\users\\prakash\\appdata\\local\\programs\\python\\python311\\lib\\site-packages (from beautifulsoup4->bs4) (2.4.1)\n"
     ]
    }
   ],
   "source": [
    "! pip install nltk -U\n",
    "! pip install bs4 -U\n"
   ]
  },
  {
   "cell_type": "code",
   "execution_count": 2,
   "id": "7c64627a",
   "metadata": {},
   "outputs": [
    {
     "name": "stderr",
     "output_type": "stream",
     "text": [
      "[nltk_data] Downloading package stopwords to\n",
      "[nltk_data]     C:\\Users\\Prakash\\AppData\\Roaming\\nltk_data...\n",
      "[nltk_data]   Package stopwords is already up-to-date!\n",
      "[nltk_data] Downloading package punkt to\n",
      "[nltk_data]     C:\\Users\\Prakash\\AppData\\Roaming\\nltk_data...\n",
      "[nltk_data]   Package punkt is already up-to-date!\n",
      "[nltk_data] Downloading package wordnet to\n",
      "[nltk_data]     C:\\Users\\Prakash\\AppData\\Roaming\\nltk_data...\n",
      "[nltk_data]   Package wordnet is already up-to-date!\n",
      "[nltk_data] Error loading average_perceptron_tagger: Package\n",
      "[nltk_data]     'average_perceptron_tagger' not found in index\n"
     ]
    },
    {
     "data": {
      "text/plain": [
       "False"
      ]
     },
     "execution_count": 2,
     "metadata": {},
     "output_type": "execute_result"
    }
   ],
   "source": [
    "\n",
    "import nltk\n",
    "nltk.download('stopwords') \n",
    "nltk.download('punkt')\n",
    "nltk.download('wordnet')\n",
    "nltk.download('average_perceptron_tagger')\n"
   ]
  },
  {
   "cell_type": "code",
   "execution_count": 3,
   "id": "142363b1",
   "metadata": {},
   "outputs": [],
   "source": [
    "import nltk"
   ]
  },
  {
   "cell_type": "code",
   "execution_count": 4,
   "id": "18d34754",
   "metadata": {},
   "outputs": [],
   "source": [
    "para=\"Rajgad (literal meaning Ruling Fort) is a Hill region fort situated in the Pune district of Maharashtra, India. Formerly known as Murumbdev, the fort was the first capital of the Maratha Empire under the rule of Chhatrapati Shiva ji for almost 26 years, after which the capital was moved to the Raigad Fort.[1] Treasures discovered from an adjacent fort called Torna were used to completely build and fortify the Rajgad Fort.\""
   ]
  },
  {
   "cell_type": "code",
   "execution_count": 5,
   "id": "62255bd8",
   "metadata": {},
   "outputs": [
    {
     "name": "stdout",
     "output_type": "stream",
     "text": [
      "Rajgad (literal meaning Ruling Fort) is a Hill region fort situated in the Pune district of Maharashtra, India. Formerly known as Murumbdev, the fort was the first capital of the Maratha Empire under the rule of Chhatrapati Shiva ji for almost 26 years, after which the capital was moved to the Raigad Fort.[1] Treasures discovered from an adjacent fort called Torna were used to completely build and fortify the Rajgad Fort.\n"
     ]
    }
   ],
   "source": [
    "print(para)"
   ]
  },
  {
   "cell_type": "code",
   "execution_count": 6,
   "id": "f5dda0ad",
   "metadata": {},
   "outputs": [
    {
     "data": {
      "text/plain": [
       "['Rajgad',\n",
       " '(literal',\n",
       " 'meaning',\n",
       " 'Ruling',\n",
       " 'Fort)',\n",
       " 'is',\n",
       " 'a',\n",
       " 'Hill',\n",
       " 'region',\n",
       " 'fort',\n",
       " 'situated',\n",
       " 'in',\n",
       " 'the',\n",
       " 'Pune',\n",
       " 'district',\n",
       " 'of',\n",
       " 'Maharashtra,',\n",
       " 'India.',\n",
       " 'Formerly',\n",
       " 'known',\n",
       " 'as',\n",
       " 'Murumbdev,',\n",
       " 'the',\n",
       " 'fort',\n",
       " 'was',\n",
       " 'the',\n",
       " 'first',\n",
       " 'capital',\n",
       " 'of',\n",
       " 'the',\n",
       " 'Maratha',\n",
       " 'Empire',\n",
       " 'under',\n",
       " 'the',\n",
       " 'rule',\n",
       " 'of',\n",
       " 'Chhatrapati',\n",
       " 'Shiva',\n",
       " 'ji',\n",
       " 'for',\n",
       " 'almost',\n",
       " '26',\n",
       " 'years,',\n",
       " 'after',\n",
       " 'which',\n",
       " 'the',\n",
       " 'capital',\n",
       " 'was',\n",
       " 'moved',\n",
       " 'to',\n",
       " 'the',\n",
       " 'Raigad',\n",
       " 'Fort.[1]',\n",
       " 'Treasures',\n",
       " 'discovered',\n",
       " 'from',\n",
       " 'an',\n",
       " 'adjacent',\n",
       " 'fort',\n",
       " 'called',\n",
       " 'Torna',\n",
       " 'were',\n",
       " 'used',\n",
       " 'to',\n",
       " 'completely',\n",
       " 'build',\n",
       " 'and',\n",
       " 'fortify',\n",
       " 'the',\n",
       " 'Rajgad',\n",
       " 'Fort.']"
      ]
     },
     "execution_count": 6,
     "metadata": {},
     "output_type": "execute_result"
    }
   ],
   "source": [
    "para.split()"
   ]
  },
  {
   "cell_type": "code",
   "execution_count": 7,
   "id": "01726078",
   "metadata": {},
   "outputs": [],
   "source": [
    "from nltk.tokenize import sent_tokenize\n",
    "from nltk.tokenize import word_tokenize\n"
   ]
  },
  {
   "cell_type": "code",
   "execution_count": 8,
   "id": "338d5ba4",
   "metadata": {},
   "outputs": [
    {
     "data": {
      "text/plain": [
       "'[1] Treasures discovered from an adjacent fort called Torna were used to completely build and fortify the Rajgad Fort.'"
      ]
     },
     "execution_count": 8,
     "metadata": {},
     "output_type": "execute_result"
    }
   ],
   "source": [
    "sent=sent_tokenize(para)\n",
    "sent[2]\n",
    "\n"
   ]
  },
  {
   "cell_type": "code",
   "execution_count": 9,
   "id": "65e2abb3",
   "metadata": {},
   "outputs": [
    {
     "data": {
      "text/plain": [
       "['Rajgad',\n",
       " '(',\n",
       " 'literal',\n",
       " 'meaning',\n",
       " 'Ruling',\n",
       " 'Fort',\n",
       " ')',\n",
       " 'is',\n",
       " 'a',\n",
       " 'Hill',\n",
       " 'region',\n",
       " 'fort',\n",
       " 'situated',\n",
       " 'in',\n",
       " 'the',\n",
       " 'Pune',\n",
       " 'district',\n",
       " 'of',\n",
       " 'Maharashtra',\n",
       " ',',\n",
       " 'India',\n",
       " '.',\n",
       " 'Formerly',\n",
       " 'known',\n",
       " 'as',\n",
       " 'Murumbdev',\n",
       " ',',\n",
       " 'the',\n",
       " 'fort',\n",
       " 'was',\n",
       " 'the',\n",
       " 'first',\n",
       " 'capital',\n",
       " 'of',\n",
       " 'the',\n",
       " 'Maratha',\n",
       " 'Empire',\n",
       " 'under',\n",
       " 'the',\n",
       " 'rule',\n",
       " 'of',\n",
       " 'Chhatrapati',\n",
       " 'Shiva',\n",
       " 'ji',\n",
       " 'for',\n",
       " 'almost',\n",
       " '26',\n",
       " 'years',\n",
       " ',',\n",
       " 'after',\n",
       " 'which',\n",
       " 'the',\n",
       " 'capital',\n",
       " 'was',\n",
       " 'moved',\n",
       " 'to',\n",
       " 'the',\n",
       " 'Raigad',\n",
       " 'Fort',\n",
       " '.',\n",
       " '[',\n",
       " '1',\n",
       " ']',\n",
       " 'Treasures',\n",
       " 'discovered',\n",
       " 'from',\n",
       " 'an',\n",
       " 'adjacent',\n",
       " 'fort',\n",
       " 'called',\n",
       " 'Torna',\n",
       " 'were',\n",
       " 'used',\n",
       " 'to',\n",
       " 'completely',\n",
       " 'build',\n",
       " 'and',\n",
       " 'fortify',\n",
       " 'the',\n",
       " 'Rajgad',\n",
       " 'Fort',\n",
       " '.']"
      ]
     },
     "execution_count": 9,
     "metadata": {},
     "output_type": "execute_result"
    }
   ],
   "source": [
    "words=word_tokenize(para)\n",
    "\n",
    "\n",
    "words\n"
   ]
  },
  {
   "cell_type": "code",
   "execution_count": 10,
   "id": "654eddd8",
   "metadata": {},
   "outputs": [
    {
     "data": {
      "text/plain": [
       "['i',\n",
       " 'me',\n",
       " 'my',\n",
       " 'myself',\n",
       " 'we',\n",
       " 'our',\n",
       " 'ours',\n",
       " 'ourselves',\n",
       " 'you',\n",
       " \"you're\",\n",
       " \"you've\",\n",
       " \"you'll\",\n",
       " \"you'd\",\n",
       " 'your',\n",
       " 'yours',\n",
       " 'yourself',\n",
       " 'yourselves',\n",
       " 'he',\n",
       " 'him',\n",
       " 'his',\n",
       " 'himself',\n",
       " 'she',\n",
       " \"she's\",\n",
       " 'her',\n",
       " 'hers',\n",
       " 'herself',\n",
       " 'it',\n",
       " \"it's\",\n",
       " 'its',\n",
       " 'itself',\n",
       " 'they',\n",
       " 'them',\n",
       " 'their',\n",
       " 'theirs',\n",
       " 'themselves',\n",
       " 'what',\n",
       " 'which',\n",
       " 'who',\n",
       " 'whom',\n",
       " 'this',\n",
       " 'that',\n",
       " \"that'll\",\n",
       " 'these',\n",
       " 'those',\n",
       " 'am',\n",
       " 'is',\n",
       " 'are',\n",
       " 'was',\n",
       " 'were',\n",
       " 'be',\n",
       " 'been',\n",
       " 'being',\n",
       " 'have',\n",
       " 'has',\n",
       " 'had',\n",
       " 'having',\n",
       " 'do',\n",
       " 'does',\n",
       " 'did',\n",
       " 'doing',\n",
       " 'a',\n",
       " 'an',\n",
       " 'the',\n",
       " 'and',\n",
       " 'but',\n",
       " 'if',\n",
       " 'or',\n",
       " 'because',\n",
       " 'as',\n",
       " 'until',\n",
       " 'while',\n",
       " 'of',\n",
       " 'at',\n",
       " 'by',\n",
       " 'for',\n",
       " 'with',\n",
       " 'about',\n",
       " 'against',\n",
       " 'between',\n",
       " 'into',\n",
       " 'through',\n",
       " 'during',\n",
       " 'before',\n",
       " 'after',\n",
       " 'above',\n",
       " 'below',\n",
       " 'to',\n",
       " 'from',\n",
       " 'up',\n",
       " 'down',\n",
       " 'in',\n",
       " 'out',\n",
       " 'on',\n",
       " 'off',\n",
       " 'over',\n",
       " 'under',\n",
       " 'again',\n",
       " 'further',\n",
       " 'then',\n",
       " 'once',\n",
       " 'here',\n",
       " 'there',\n",
       " 'when',\n",
       " 'where',\n",
       " 'why',\n",
       " 'how',\n",
       " 'all',\n",
       " 'any',\n",
       " 'both',\n",
       " 'each',\n",
       " 'few',\n",
       " 'more',\n",
       " 'most',\n",
       " 'other',\n",
       " 'some',\n",
       " 'such',\n",
       " 'no',\n",
       " 'nor',\n",
       " 'not',\n",
       " 'only',\n",
       " 'own',\n",
       " 'same',\n",
       " 'so',\n",
       " 'than',\n",
       " 'too',\n",
       " 'very',\n",
       " 's',\n",
       " 't',\n",
       " 'can',\n",
       " 'will',\n",
       " 'just',\n",
       " 'don',\n",
       " \"don't\",\n",
       " 'should',\n",
       " \"should've\",\n",
       " 'now',\n",
       " 'd',\n",
       " 'll',\n",
       " 'm',\n",
       " 'o',\n",
       " 're',\n",
       " 've',\n",
       " 'y',\n",
       " 'ain',\n",
       " 'aren',\n",
       " \"aren't\",\n",
       " 'couldn',\n",
       " \"couldn't\",\n",
       " 'didn',\n",
       " \"didn't\",\n",
       " 'doesn',\n",
       " \"doesn't\",\n",
       " 'hadn',\n",
       " \"hadn't\",\n",
       " 'hasn',\n",
       " \"hasn't\",\n",
       " 'haven',\n",
       " \"haven't\",\n",
       " 'isn',\n",
       " \"isn't\",\n",
       " 'ma',\n",
       " 'mightn',\n",
       " \"mightn't\",\n",
       " 'mustn',\n",
       " \"mustn't\",\n",
       " 'needn',\n",
       " \"needn't\",\n",
       " 'shan',\n",
       " \"shan't\",\n",
       " 'shouldn',\n",
       " \"shouldn't\",\n",
       " 'wasn',\n",
       " \"wasn't\",\n",
       " 'weren',\n",
       " \"weren't\",\n",
       " 'won',\n",
       " \"won't\",\n",
       " 'wouldn',\n",
       " \"wouldn't\"]"
      ]
     },
     "execution_count": 10,
     "metadata": {},
     "output_type": "execute_result"
    }
   ],
   "source": [
    "from nltk.corpus import stopwords\n",
    "swords=stopwords.words('english') \n",
    "swords\n"
   ]
  },
  {
   "cell_type": "code",
   "execution_count": 11,
   "id": "0aab6439",
   "metadata": {},
   "outputs": [
    {
     "data": {
      "text/plain": [
       "['Rajgad',\n",
       " '(',\n",
       " 'literal',\n",
       " 'meaning',\n",
       " 'Ruling',\n",
       " 'Fort',\n",
       " ')',\n",
       " 'Hill',\n",
       " 'region',\n",
       " 'fort',\n",
       " 'situated',\n",
       " 'Pune',\n",
       " 'district',\n",
       " 'Maharashtra',\n",
       " ',',\n",
       " 'India',\n",
       " '.',\n",
       " 'Formerly',\n",
       " 'known',\n",
       " 'Murumbdev',\n",
       " ',',\n",
       " 'fort',\n",
       " 'first',\n",
       " 'capital',\n",
       " 'Maratha',\n",
       " 'Empire',\n",
       " 'rule',\n",
       " 'Chhatrapati',\n",
       " 'Shiva',\n",
       " 'ji',\n",
       " 'almost',\n",
       " '26',\n",
       " 'years',\n",
       " ',',\n",
       " 'capital',\n",
       " 'moved',\n",
       " 'Raigad',\n",
       " 'Fort',\n",
       " '.',\n",
       " '[',\n",
       " '1',\n",
       " ']',\n",
       " 'Treasures',\n",
       " 'discovered',\n",
       " 'adjacent',\n",
       " 'fort',\n",
       " 'called',\n",
       " 'Torna',\n",
       " 'used',\n",
       " 'completely',\n",
       " 'build',\n",
       " 'fortify',\n",
       " 'Rajgad',\n",
       " 'Fort',\n",
       " '.']"
      ]
     },
     "execution_count": 11,
     "metadata": {},
     "output_type": "execute_result"
    }
   ],
   "source": [
    "x =[word for word in words if word not in swords]\n",
    "\n",
    "\n",
    "x\n"
   ]
  },
  {
   "cell_type": "code",
   "execution_count": 12,
   "id": "4ead4ce0",
   "metadata": {},
   "outputs": [
    {
     "data": {
      "text/plain": [
       "'!\"#$%&\\'()*+,-./:;<=>?@[\\\\]^_`{|}~'"
      ]
     },
     "execution_count": 12,
     "metadata": {},
     "output_type": "execute_result"
    }
   ],
   "source": [
    "import string\n",
    "\n",
    "\n",
    "string.punctuation\n"
   ]
  },
  {
   "cell_type": "code",
   "execution_count": 13,
   "id": "b0d02ac6",
   "metadata": {},
   "outputs": [
    {
     "data": {
      "text/plain": [
       "['Rajgad',\n",
       " 'literal',\n",
       " 'meaning',\n",
       " 'Ruling',\n",
       " 'Fort',\n",
       " 'is',\n",
       " 'a',\n",
       " 'Hill',\n",
       " 'region',\n",
       " 'fort',\n",
       " 'situated',\n",
       " 'in',\n",
       " 'the',\n",
       " 'Pune',\n",
       " 'district',\n",
       " 'of',\n",
       " 'Maharashtra',\n",
       " 'India',\n",
       " 'Formerly',\n",
       " 'known',\n",
       " 'as',\n",
       " 'Murumbdev',\n",
       " 'the',\n",
       " 'fort',\n",
       " 'was',\n",
       " 'the',\n",
       " 'first',\n",
       " 'capital',\n",
       " 'of',\n",
       " 'the',\n",
       " 'Maratha',\n",
       " 'Empire',\n",
       " 'under',\n",
       " 'the',\n",
       " 'rule',\n",
       " 'of',\n",
       " 'Chhatrapati',\n",
       " 'Shiva',\n",
       " 'ji',\n",
       " 'for',\n",
       " 'almost',\n",
       " '26',\n",
       " 'years',\n",
       " 'after',\n",
       " 'which',\n",
       " 'the',\n",
       " 'capital',\n",
       " 'was',\n",
       " 'moved',\n",
       " 'to',\n",
       " 'the',\n",
       " 'Raigad',\n",
       " 'Fort',\n",
       " '1',\n",
       " 'Treasures',\n",
       " 'discovered',\n",
       " 'from',\n",
       " 'an',\n",
       " 'adjacent',\n",
       " 'fort',\n",
       " 'called',\n",
       " 'Torna',\n",
       " 'were',\n",
       " 'used',\n",
       " 'to',\n",
       " 'completely',\n",
       " 'build',\n",
       " 'and',\n",
       " 'fortify',\n",
       " 'the',\n",
       " 'Rajgad',\n",
       " 'Fort']"
      ]
     },
     "execution_count": 13,
     "metadata": {},
     "output_type": "execute_result"
    }
   ],
   "source": [
    "t=[word for word in words if word not in string.punctuation]\n",
    "\n",
    "\n",
    "t\n"
   ]
  },
  {
   "cell_type": "code",
   "execution_count": 14,
   "id": "e8d57493",
   "metadata": {},
   "outputs": [],
   "source": [
    "from nltk import pos_tag"
   ]
  },
  {
   "cell_type": "code",
   "execution_count": 34,
   "id": "9f7809bd",
   "metadata": {},
   "outputs": [
    {
     "name": "stdout",
     "output_type": "stream",
     "text": [
      "Requirement already satisfied: scikit-learn in c:\\users\\prakash\\appdata\\local\\programs\\python\\python311\\lib\\site-packages (1.2.2)Note: you may need to restart the kernel to use updated packages.\n",
      "\n",
      "Requirement already satisfied: numpy>=1.17.3 in c:\\users\\prakash\\appdata\\local\\programs\\python\\python311\\lib\\site-packages (from scikit-learn) (1.24.3)\n",
      "Requirement already satisfied: scipy>=1.3.2 in c:\\users\\prakash\\appdata\\local\\programs\\python\\python311\\lib\\site-packages (from scikit-learn) (1.10.1)\n",
      "Requirement already satisfied: joblib>=1.1.1 in c:\\users\\prakash\\appdata\\local\\programs\\python\\python311\\lib\\site-packages (from scikit-learn) (1.2.0)\n",
      "Requirement already satisfied: threadpoolctl>=2.0.0 in c:\\users\\prakash\\appdata\\local\\programs\\python\\python311\\lib\\site-packages (from scikit-learn) (3.1.0)\n"
     ]
    }
   ],
   "source": [
    "pip install -U scikit-learn\n"
   ]
  },
  {
   "cell_type": "code",
   "execution_count": 35,
   "id": "bd963a0c",
   "metadata": {},
   "outputs": [],
   "source": [
    " from sklearn.feature_extraction.text import TfidfVectorizer"
   ]
  },
  {
   "cell_type": "code",
   "execution_count": 17,
   "id": "7a88abf1",
   "metadata": {},
   "outputs": [
    {
     "name": "stdout",
     "output_type": "stream",
     "text": [
      "Requirement already satisfied: pip in c:\\users\\prakash\\appdata\\local\\programs\\python\\python311\\lib\\site-packages (23.1.2)\n",
      "Note: you may need to restart the kernel to use updated packages.\n"
     ]
    }
   ],
   "source": [
    "pip install --upgrade pip"
   ]
  },
  {
   "cell_type": "code",
   "execution_count": 36,
   "id": "e283d61a",
   "metadata": {},
   "outputs": [
    {
     "data": {
      "text/plain": [
       "(72, 52)"
      ]
     },
     "execution_count": 36,
     "metadata": {},
     "output_type": "execute_result"
    }
   ],
   "source": [
    "\n",
    "tfidf=TfidfVectorizer()\n",
    "v=tfidf.fit_transform(t)\n",
    "\n",
    "\n",
    "v.shape"
   ]
  },
  {
   "cell_type": "code",
   "execution_count": 37,
   "id": "23f73999",
   "metadata": {},
   "outputs": [
    {
     "data": {
      "text/html": [
       "<div>\n",
       "<style scoped>\n",
       "    .dataframe tbody tr th:only-of-type {\n",
       "        vertical-align: middle;\n",
       "    }\n",
       "\n",
       "    .dataframe tbody tr th {\n",
       "        vertical-align: top;\n",
       "    }\n",
       "\n",
       "    .dataframe thead th {\n",
       "        text-align: right;\n",
       "    }\n",
       "</style>\n",
       "<table border=\"1\" class=\"dataframe\">\n",
       "  <thead>\n",
       "    <tr style=\"text-align: right;\">\n",
       "      <th></th>\n",
       "      <th>0</th>\n",
       "    </tr>\n",
       "  </thead>\n",
       "  <tbody>\n",
       "    <tr>\n",
       "      <th>0</th>\n",
       "      <td>(0, 36)\\t1.0</td>\n",
       "    </tr>\n",
       "    <tr>\n",
       "      <th>1</th>\n",
       "      <td>(0, 27)\\t1.0</td>\n",
       "    </tr>\n",
       "    <tr>\n",
       "      <th>2</th>\n",
       "      <td>(0, 30)\\t1.0</td>\n",
       "    </tr>\n",
       "    <tr>\n",
       "      <th>3</th>\n",
       "      <td>(0, 39)\\t1.0</td>\n",
       "    </tr>\n",
       "    <tr>\n",
       "      <th>4</th>\n",
       "      <td>(0, 18)\\t1.0</td>\n",
       "    </tr>\n",
       "    <tr>\n",
       "      <th>...</th>\n",
       "      <td>...</td>\n",
       "    </tr>\n",
       "    <tr>\n",
       "      <th>67</th>\n",
       "      <td>(0, 5)\\t1.0</td>\n",
       "    </tr>\n",
       "    <tr>\n",
       "      <th>68</th>\n",
       "      <td>(0, 19)\\t1.0</td>\n",
       "    </tr>\n",
       "    <tr>\n",
       "      <th>69</th>\n",
       "      <td>(0, 42)\\t1.0</td>\n",
       "    </tr>\n",
       "    <tr>\n",
       "      <th>70</th>\n",
       "      <td>(0, 36)\\t1.0</td>\n",
       "    </tr>\n",
       "    <tr>\n",
       "      <th>71</th>\n",
       "      <td>(0, 18)\\t1.0</td>\n",
       "    </tr>\n",
       "  </tbody>\n",
       "</table>\n",
       "<p>72 rows × 1 columns</p>\n",
       "</div>"
      ],
      "text/plain": [
       "                 0\n",
       "0     (0, 36)\\t1.0\n",
       "1     (0, 27)\\t1.0\n",
       "2     (0, 30)\\t1.0\n",
       "3     (0, 39)\\t1.0\n",
       "4     (0, 18)\\t1.0\n",
       "..             ...\n",
       "67     (0, 5)\\t1.0\n",
       "68    (0, 19)\\t1.0\n",
       "69    (0, 42)\\t1.0\n",
       "70    (0, 36)\\t1.0\n",
       "71    (0, 18)\\t1.0\n",
       "\n",
       "[72 rows x 1 columns]"
      ]
     },
     "execution_count": 37,
     "metadata": {},
     "output_type": "execute_result"
    }
   ],
   "source": [
    "import pandas as pd \n",
    "pd.DataFrame(v)"
   ]
  }
 ],
 "metadata": {
  "kernelspec": {
   "display_name": "Python 3 (ipykernel)",
   "language": "python",
   "name": "python3"
  },
  "language_info": {
   "codemirror_mode": {
    "name": "ipython",
    "version": 3
   },
   "file_extension": ".py",
   "mimetype": "text/x-python",
   "name": "python",
   "nbconvert_exporter": "python",
   "pygments_lexer": "ipython3",
   "version": "3.11.3"
  }
 },
 "nbformat": 4,
 "nbformat_minor": 5
}
